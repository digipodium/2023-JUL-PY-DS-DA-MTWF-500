{
 "cells": [
  {
   "cell_type": "markdown",
   "metadata": {},
   "source": [
    "```\n",
    "pip install numpy\n",
    "```"
   ]
  },
  {
   "cell_type": "code",
   "execution_count": null,
   "metadata": {},
   "outputs": [],
   "source": [
    "import numpy as np"
   ]
  },
  {
   "cell_type": "code",
   "execution_count": null,
   "metadata": {},
   "outputs": [],
   "source": [
    "n1 = np.array([1,2,3,4])\n",
    "print(n1)\n",
    "print(type(n1))"
   ]
  },
  {
   "cell_type": "code",
   "execution_count": null,
   "metadata": {},
   "outputs": [],
   "source": [
    "n1.shape"
   ]
  },
  {
   "cell_type": "code",
   "execution_count": null,
   "metadata": {},
   "outputs": [],
   "source": [
    "n2 = np.array([[1,2,3],[2,3,5]])\n",
    "print(n2)\n",
    "print(n2.shape)"
   ]
  },
  {
   "cell_type": "markdown",
   "metadata": {},
   "source": [
    "creating matrix\n",
    "- arange\n",
    "- linspace\n",
    "- random.rand\n",
    "- random.randn\n",
    "- random.randint\n",
    "- eye\n",
    "- ones\n",
    "- zeros"
   ]
  },
  {
   "cell_type": "code",
   "execution_count": null,
   "metadata": {},
   "outputs": [],
   "source": [
    "x = np.arange(-10, 10, .2)\n",
    "x.shape"
   ]
  },
  {
   "cell_type": "code",
   "execution_count": null,
   "metadata": {},
   "outputs": [],
   "source": [
    "y = np.linspace(1, 5, 25)\n",
    "print(y)"
   ]
  },
  {
   "cell_type": "code",
   "execution_count": null,
   "metadata": {},
   "outputs": [],
   "source": [
    "np.random.rand(3,3)"
   ]
  },
  {
   "cell_type": "code",
   "execution_count": null,
   "metadata": {},
   "outputs": [],
   "source": [
    "np.random.randn(10)"
   ]
  },
  {
   "cell_type": "code",
   "execution_count": null,
   "metadata": {},
   "outputs": [],
   "source": [
    "np.random.randint(1, 5, (5,5))"
   ]
  },
  {
   "cell_type": "code",
   "execution_count": null,
   "metadata": {},
   "outputs": [],
   "source": [
    "x = np.random.randint(1,10, (3,2))\n",
    "y = np.random.randint(1,10, (3,2))\n",
    "print(x)\n",
    "print(y)"
   ]
  },
  {
   "cell_type": "code",
   "execution_count": null,
   "metadata": {},
   "outputs": [],
   "source": [
    "x + 5"
   ]
  },
  {
   "cell_type": "code",
   "execution_count": null,
   "metadata": {},
   "outputs": [],
   "source": [
    "x + y"
   ]
  },
  {
   "cell_type": "code",
   "execution_count": null,
   "metadata": {},
   "outputs": [],
   "source": [
    "x * y"
   ]
  },
  {
   "cell_type": "code",
   "execution_count": null,
   "metadata": {},
   "outputs": [],
   "source": [
    "x.T"
   ]
  },
  {
   "cell_type": "code",
   "execution_count": null,
   "metadata": {},
   "outputs": [],
   "source": [
    "x.dot(y.T)"
   ]
  },
  {
   "cell_type": "code",
   "execution_count": null,
   "metadata": {},
   "outputs": [],
   "source": [
    "np.sin(x)"
   ]
  },
  {
   "cell_type": "code",
   "execution_count": null,
   "metadata": {},
   "outputs": [],
   "source": [
    "print(x.sum())\n",
    "print(x.mean())\n",
    "print(x.std())"
   ]
  },
  {
   "cell_type": "code",
   "execution_count": null,
   "metadata": {},
   "outputs": [],
   "source": [
    "a = np.linspace(0, 5, 50)\n",
    "print(a.shape)\n",
    "a2 = a.reshape(10, 5)\n",
    "print(a2)\n",
    "print(a2.shape)"
   ]
  },
  {
   "cell_type": "code",
   "execution_count": null,
   "metadata": {},
   "outputs": [],
   "source": [
    "a2.reshape(50)"
   ]
  },
  {
   "cell_type": "code",
   "execution_count": null,
   "metadata": {},
   "outputs": [],
   "source": [
    "m = np.random.randint(1, 10, (10, 10))\n",
    "print(m)"
   ]
  },
  {
   "cell_type": "code",
   "execution_count": null,
   "metadata": {},
   "outputs": [],
   "source": [
    "print(m[0, 0]) # first row, first column\n",
    "print(m[0, -1]) # first row, last column\n",
    "print(m[-1,0]) # last row, first column\n",
    "print(m[-1,-1])  # last row, last column"
   ]
  },
  {
   "cell_type": "code",
   "execution_count": null,
   "metadata": {},
   "outputs": [],
   "source": [
    "print(m[0]) # first row\n",
    "print(m[1]) # second row\n",
    "print(m[-1]) # last row\n",
    "print(m[:3]) # first 3 rows\n",
    "print(m[-3:]) # last 3 rows"
   ]
  },
  {
   "cell_type": "code",
   "execution_count": null,
   "metadata": {},
   "outputs": [],
   "source": [
    "print(m[:,0]) # 1st column\n",
    "print(m[:,-1]) # last column\n",
    "print(m[:, :3]) # first 3 column\n",
    "print(m[:, -3:]) # last 3 column"
   ]
  },
  {
   "cell_type": "code",
   "execution_count": null,
   "metadata": {},
   "outputs": [],
   "source": [
    "print(m[:, [0,2,3,5]])"
   ]
  },
  {
   "cell_type": "markdown",
   "metadata": {},
   "source": [
    "filtering"
   ]
  },
  {
   "cell_type": "code",
   "execution_count": null,
   "metadata": {},
   "outputs": [],
   "source": [
    "m < 5 # boolean filter"
   ]
  },
  {
   "cell_type": "code",
   "execution_count": 42,
   "metadata": {},
   "outputs": [
    {
     "data": {
      "text/plain": [
       "array([2, 3, 2, 1, 3, 2, 4, 4, 4, 1, 1, 1, 4, 1, 1, 3, 2, 2, 1, 3, 1, 4,\n",
       "       2, 3, 4, 2, 1, 2, 1, 1, 2, 2, 1, 3, 3, 4, 2, 1, 3, 4, 2, 4, 3, 3])"
      ]
     },
     "execution_count": 42,
     "metadata": {},
     "output_type": "execute_result"
    }
   ],
   "source": [
    "m[m<5]"
   ]
  },
  {
   "cell_type": "code",
   "execution_count": 49,
   "metadata": {},
   "outputs": [
    {
     "data": {
      "text/plain": [
       "array([6, 7, 9, 5, 6, 9, 8, 4, 9, 9, 4, 5, 4, 4, 7, 9, 5, 7, 8, 6, 6, 7,\n",
       "       5, 6, 9, 8, 8, 9, 5, 9, 5, 9, 4, 9, 4, 7, 7, 5, 9, 9, 9, 5, 7, 9,\n",
       "       9, 6, 6, 7, 7, 8, 4, 9, 6, 8, 4, 5, 8, 4, 9, 8, 6, 6, 9, 6, 5])"
      ]
     },
     "execution_count": 49,
     "metadata": {},
     "output_type": "execute_result"
    }
   ],
   "source": [
    "m[m>3]"
   ]
  },
  {
   "cell_type": "code",
   "execution_count": 46,
   "metadata": {},
   "outputs": [
    {
     "data": {
      "text/plain": [
       "array([6, 3, 5, 6, 3, 4, 4, 5, 4, 4, 5, 3, 6, 6, 5, 6, 5, 5, 3, 4, 3, 4,\n",
       "       5, 5, 6, 3, 6, 3, 4, 6, 3, 4, 5, 4, 3, 6, 6, 6, 5, 3])"
      ]
     },
     "execution_count": 46,
     "metadata": {},
     "output_type": "execute_result"
    }
   ],
   "source": [
    "m[(m >= 3) & (m <= 6)]"
   ]
  },
  {
   "cell_type": "code",
   "execution_count": 47,
   "metadata": {},
   "outputs": [
    {
     "name": "stdout",
     "output_type": "stream",
     "text": [
      "\u001b[1;31mDocstring:\u001b[0m\n",
      "a.flatten(order='C')\n",
      "\n",
      "Return a copy of the array collapsed into one dimension.\n",
      "\n",
      "Parameters\n",
      "----------\n",
      "order : {'C', 'F', 'A', 'K'}, optional\n",
      "    'C' means to flatten in row-major (C-style) order.\n",
      "    'F' means to flatten in column-major (Fortran-\n",
      "    style) order. 'A' means to flatten in column-major\n",
      "    order if `a` is Fortran *contiguous* in memory,\n",
      "    row-major order otherwise. 'K' means to flatten\n",
      "    `a` in the order the elements occur in memory.\n",
      "    The default is 'C'.\n",
      "\n",
      "Returns\n",
      "-------\n",
      "y : ndarray\n",
      "    A copy of the input array, flattened to one dimension.\n",
      "\n",
      "See Also\n",
      "--------\n",
      "ravel : Return a flattened array.\n",
      "flat : A 1-D flat iterator over the array.\n",
      "\n",
      "Examples\n",
      "--------\n",
      ">>> a = np.array([[1,2], [3,4]])\n",
      ">>> a.flatten()\n",
      "array([1, 2, 3, 4])\n",
      ">>> a.flatten('F')\n",
      "array([1, 3, 2, 4])\n",
      "\u001b[1;31mType:\u001b[0m      builtin_function_or_method"
     ]
    }
   ],
   "source": [
    "m.flatten?"
   ]
  },
  {
   "cell_type": "code",
   "execution_count": null,
   "metadata": {},
   "outputs": [],
   "source": []
  }
 ],
 "metadata": {
  "kernelspec": {
   "display_name": "base",
   "language": "python",
   "name": "python3"
  },
  "language_info": {
   "codemirror_mode": {
    "name": "ipython",
    "version": 3
   },
   "file_extension": ".py",
   "mimetype": "text/x-python",
   "name": "python",
   "nbconvert_exporter": "python",
   "pygments_lexer": "ipython3",
   "version": "3.10.11"
  },
  "orig_nbformat": 4
 },
 "nbformat": 4,
 "nbformat_minor": 2
}
