{
 "cells": [
  {
   "cell_type": "markdown",
   "metadata": {},
   "source": [
    "- matplotlib (basic visualization)\n",
    "- seaborn (advanced visualization)\n",
    "- plotly (interactive visualization)"
   ]
  },
  {
   "cell_type": "code",
   "execution_count": null,
   "metadata": {},
   "outputs": [],
   "source": [
    "import numpy as np\n",
    "import matplotlib.pyplot as plt\n",
    "import seaborn as sns\n",
    "import plotly.express as px"
   ]
  },
  {
   "cell_type": "code",
   "execution_count": null,
   "metadata": {},
   "outputs": [],
   "source": [
    "penguins = sns.load_dataset(\"penguins\")\n",
    "penguins"
   ]
  },
  {
   "cell_type": "code",
   "execution_count": null,
   "metadata": {},
   "outputs": [],
   "source": [
    "penguins['bill_depth_mm'].plot()"
   ]
  },
  {
   "cell_type": "code",
   "execution_count": null,
   "metadata": {},
   "outputs": [],
   "source": [
    "penguins['bill_depth_mm'].plot(linestyle='', \n",
    "                               marker='s', \n",
    "                               markersize=10,\n",
    "                               alpha=.5, \n",
    "                               figsize=(10, 5),\n",
    "                               markerfacecolor='yellow',\n",
    "                               markeredgecolor='black',)"
   ]
  },
  {
   "cell_type": "code",
   "execution_count": null,
   "metadata": {},
   "outputs": [],
   "source": [
    "penguins['bill_depth_mm'][:50].plot(kind='bar', figsize=(15, 4), color='green')"
   ]
  },
  {
   "cell_type": "code",
   "execution_count": null,
   "metadata": {},
   "outputs": [],
   "source": [
    "penguins['bill_depth_mm'][:50].plot(kind='area', figsize=(15, 4), \n",
    "                                    color='green', alpha=0.5,)"
   ]
  },
  {
   "cell_type": "code",
   "execution_count": null,
   "metadata": {},
   "outputs": [],
   "source": [
    "print(sns.get_dataset_names())"
   ]
  },
  {
   "cell_type": "code",
   "execution_count": null,
   "metadata": {},
   "outputs": [],
   "source": [
    "penguins.plot(kind='scatter', x='bill_length_mm', y='bill_depth_mm', s=100, alpha=.5)"
   ]
  },
  {
   "cell_type": "code",
   "execution_count": null,
   "metadata": {},
   "outputs": [],
   "source": [
    "penguins.plot(kind='scatter', x='bill_length_mm', y='flipper_length_mm', s=100, alpha=.5)"
   ]
  },
  {
   "cell_type": "markdown",
   "metadata": {},
   "source": [
    "subplots"
   ]
  },
  {
   "cell_type": "code",
   "execution_count": null,
   "metadata": {},
   "outputs": [],
   "source": [
    "fig, axs = plt.subplots(1, 2, figsize=(15, 5), constrained_layout=True)\n",
    "penguins.plot(kind='scatter', x='bill_length_mm',\n",
    "              y='bill_depth_mm', s=100, alpha=.5, ax=axs[0], title='penguin bill data')\n",
    "penguins.plot(kind='scatter', x='bill_length_mm', \n",
    "              y='flipper_length_mm', s=100, alpha=.5, ax=axs[1], title='penguin flipper')\n",
    "plt.show()"
   ]
  },
  {
   "cell_type": "code",
   "execution_count": null,
   "metadata": {},
   "outputs": [],
   "source": [
    "penguins['species'].value_counts()"
   ]
  },
  {
   "cell_type": "code",
   "execution_count": null,
   "metadata": {},
   "outputs": [],
   "source": [
    "penguins['species'].value_counts().plot(kind='pie',\n",
    "                                        autopct='%1.1f%%', # add in percentages\n",
    "                                        figsize=(3, 3),\n",
    "                                        title='Species',\n",
    "                                        ylabel='')"
   ]
  },
  {
   "cell_type": "code",
   "execution_count": null,
   "metadata": {},
   "outputs": [],
   "source": [
    "penguins['species'].value_counts().plot(kind='pie',\n",
    "                                        autopct='%1.1f%%', # add in percentages\n",
    "                                        figsize=(3, 3),\n",
    "                                        title='Species',\n",
    "                                        ylabel='',\n",
    "                                        pctdistance=.7,\n",
    "                                        wedgeprops = dict(\n",
    "                                            width=0.5,\n",
    "                                        ))"
   ]
  },
  {
   "cell_type": "code",
   "execution_count": null,
   "metadata": {},
   "outputs": [],
   "source": [
    "Trigger Mindscape - Gradio\n",
    "Straw hats - Streamlit\n",
    "Qbits - Tkinter\n",
    "EyeFlu - Kivy\n",
    "TopG - PySimpleUI\n",
    "Systumm - Flet"
   ]
  }
 ],
 "metadata": {
  "kernelspec": {
   "display_name": "base",
   "language": "python",
   "name": "python3"
  },
  "language_info": {
   "codemirror_mode": {
    "name": "ipython",
    "version": 3
   },
   "file_extension": ".py",
   "mimetype": "text/x-python",
   "name": "python",
   "nbconvert_exporter": "python",
   "pygments_lexer": "ipython3",
   "version": "3.10.11"
  },
  "orig_nbformat": 4
 },
 "nbformat": 4,
 "nbformat_minor": 2
}
