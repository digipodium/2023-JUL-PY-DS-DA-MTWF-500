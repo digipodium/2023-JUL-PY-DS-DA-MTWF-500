{
 "cells": [
  {
   "cell_type": "markdown",
   "metadata": {},
   "source": [
    "# operater overloading"
   ]
  },
  {
   "cell_type": "code",
   "execution_count": null,
   "metadata": {},
   "outputs": [],
   "source": [
    "x = [1,2,3]\n",
    "y = [4,5,6]\n",
    "x + y # "
   ]
  },
  {
   "cell_type": "code",
   "execution_count": null,
   "metadata": {},
   "outputs": [],
   "source": [
    "# x - y"
   ]
  },
  {
   "cell_type": "code",
   "execution_count": 23,
   "metadata": {},
   "outputs": [],
   "source": [
    "class Area:\n",
    "    def __init__(self, l, b):\n",
    "        self.l = l\n",
    "        self.b = b\n",
    "        self.val = l * b\n",
    "\n",
    "    # add operater overloading\n",
    "    def __add__(self, other):\n",
    "        if isinstance(other, Area):\n",
    "            return self.val + other.val\n",
    "        elif isinstance(other, (int, float)):\n",
    "            return self.val + other\n",
    "        else:\n",
    "            # raise TypeError(f\"Invalid type\")\n",
    "            return None\n"
   ]
  },
  {
   "cell_type": "code",
   "execution_count": 28,
   "metadata": {},
   "outputs": [
    {
     "name": "stdout",
     "output_type": "stream",
     "text": [
      "800\n",
      "210\n"
     ]
    }
   ],
   "source": [
    "a = Area(10, 20)\n",
    "b = Area(20, 30)\n",
    "print(a + b)\n",
    "print(a + 10)"
   ]
  },
  {
   "cell_type": "code",
   "execution_count": 79,
   "metadata": {},
   "outputs": [],
   "source": [
    "class Student:\n",
    "    def __init__(self, name, klass, marks = []):\n",
    "        self.name = name\n",
    "        self.klass = klass\n",
    "        self.marks = marks\n",
    "    \n",
    "    def result(self):\n",
    "        return sum(self.marks)/len(self.marks)\n",
    "\n",
    "    def __lt__(self, other):\n",
    "        if isinstance(other, Student):\n",
    "            return self.result() < other.result()\n",
    "    # this fun will execute when the object is passed in print()\n",
    "    def __str__(self):\n",
    "        return f\"{self.name} from class {self.klass}\"\n",
    "    \n",
    "    def __repr__(self):\n",
    "        return self.name\n"
   ]
  },
  {
   "cell_type": "code",
   "execution_count": 80,
   "metadata": {},
   "outputs": [],
   "source": [
    "s1 = Student(\"Ravi\", 3, marks=[95,63,41])\n",
    "s2 =  Student('Arti',5, marks=[95,73,71])\n",
    "s3 = Student('Karan', 5, marks=[75,83,81])"
   ]
  },
  {
   "cell_type": "code",
   "execution_count": 81,
   "metadata": {},
   "outputs": [
    {
     "data": {
      "text/plain": [
       "False"
      ]
     },
     "execution_count": 81,
     "metadata": {},
     "output_type": "execute_result"
    }
   ],
   "source": [
    "s1 > s2"
   ]
  },
  {
   "cell_type": "code",
   "execution_count": 82,
   "metadata": {},
   "outputs": [
    {
     "name": "stdout",
     "output_type": "stream",
     "text": [
      "Ravi from class 3\n",
      "Arti from class 5\n",
      "Karan from class 5\n"
     ]
    }
   ],
   "source": [
    "print(s1)\n",
    "print(s2)\n",
    "print(s3)"
   ]
  },
  {
   "cell_type": "code",
   "execution_count": 83,
   "metadata": {},
   "outputs": [
    {
     "data": {
      "text/plain": [
       "[Ravi, Arti, Karan]"
      ]
     },
     "execution_count": 83,
     "metadata": {},
     "output_type": "execute_result"
    }
   ],
   "source": [
    "[s1, s2, s3]"
   ]
  },
  {
   "cell_type": "code",
   "execution_count": null,
   "metadata": {},
   "outputs": [],
   "source": []
  },
  {
   "cell_type": "code",
   "execution_count": null,
   "metadata": {},
   "outputs": [],
   "source": []
  }
 ],
 "metadata": {
  "kernelspec": {
   "display_name": "base",
   "language": "python",
   "name": "python3"
  },
  "language_info": {
   "codemirror_mode": {
    "name": "ipython",
    "version": 3
   },
   "file_extension": ".py",
   "mimetype": "text/x-python",
   "name": "python",
   "nbconvert_exporter": "python",
   "pygments_lexer": "ipython3",
   "version": "3.10.11"
  },
  "orig_nbformat": 4
 },
 "nbformat": 4,
 "nbformat_minor": 2
}
