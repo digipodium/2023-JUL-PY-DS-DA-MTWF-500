{
 "cells": [
  {
   "cell_type": "code",
   "execution_count": null,
   "metadata": {},
   "outputs": [],
   "source": [
    "raju = [56,90,34,34,56]\n",
    "\n",
    "raju_dict = {\n",
    "    'English' : 56,\n",
    "    'Hindi': 90,\n",
    "    'Maths': 34,\n",
    "    'Chemistry': 34,\n",
    "    'Evs': 56\n",
    "}\n",
    "print(raju_dict)"
   ]
  },
  {
   "cell_type": "code",
   "execution_count": null,
   "metadata": {},
   "outputs": [],
   "source": [
    "company = {\n",
    "    'emp001': {\n",
    "        'name': \"Amar Kumar\",\n",
    "        'designation': 'Assistant III',\n",
    "        'salary': 32000,\n",
    "    },\n",
    "    'emp002':{\n",
    "        'name': 'Ranu Singh',\n",
    "        'designation': 'Staff Officer',\n",
    "        'salary':89000\n",
    "    },\n",
    "    'total_emp': 2,\n",
    "    'department':'Accounts',\n",
    "    'vacancy': ['clerk','manager','assistant I']\n",
    "}"
   ]
  },
  {
   "cell_type": "code",
   "execution_count": null,
   "metadata": {},
   "outputs": [],
   "source": [
    "company['name'] = 'Acme inc.' # adding a key and value to dict\n",
    "print(company)"
   ]
  },
  {
   "cell_type": "code",
   "execution_count": null,
   "metadata": {},
   "outputs": [],
   "source": [
    "company['total_emp'] = 3\n",
    "company['emp003'] = {\n",
    "    'name' : 'Ajay verma',\n",
    "    'designation': 'clerk',\n",
    "    'salary': 45000\n",
    "}"
   ]
  },
  {
   "cell_type": "code",
   "execution_count": null,
   "metadata": {},
   "outputs": [],
   "source": [
    "# company['emp004']\n",
    "company.get('website')"
   ]
  },
  {
   "cell_type": "code",
   "execution_count": null,
   "metadata": {},
   "outputs": [],
   "source": [
    "if 'website' in company:\n",
    "    print('website exists in dict')"
   ]
  },
  {
   "cell_type": "code",
   "execution_count": null,
   "metadata": {},
   "outputs": [],
   "source": [
    "print(company.keys())\n",
    "print(company.values())"
   ]
  },
  {
   "cell_type": "code",
   "execution_count": null,
   "metadata": {},
   "outputs": [],
   "source": [
    "print(company.items())"
   ]
  },
  {
   "cell_type": "code",
   "execution_count": null,
   "metadata": {},
   "outputs": [],
   "source": [
    "for i in company:\n",
    "    print(i, company[i])"
   ]
  },
  {
   "cell_type": "code",
   "execution_count": null,
   "metadata": {},
   "outputs": [],
   "source": [
    "for k, v in company.items():\n",
    "    print(k, v)"
   ]
  },
  {
   "cell_type": "code",
   "execution_count": 32,
   "metadata": {},
   "outputs": [
    {
     "name": "stdout",
     "output_type": "stream",
     "text": [
      "emp001\n",
      "---> name Amar Kumar\n",
      "---> designation Assistant III\n",
      "---> salary 32000\n",
      "emp002\n",
      "---> name Ranu Singh\n",
      "---> designation Staff Officer\n",
      "---> salary 89000\n",
      "total_emp 3\n",
      "department Accounts\n",
      "vacancy ['clerk', 'manager', 'assistant I']\n",
      "name Acme inc.\n",
      "emp003\n",
      "---> name Ajay verma\n",
      "---> designation clerk\n",
      "---> salary 45000\n"
     ]
    }
   ],
   "source": [
    "for k, v in company.items():\n",
    "    if isinstance(v, dict):\n",
    "        print(k)\n",
    "        for key, value in v.items():\n",
    "            print(\"--->\",key, value)\n",
    "    else:\n",
    "        print(k, v)"
   ]
  },
  {
   "cell_type": "code",
   "execution_count": null,
   "metadata": {},
   "outputs": [],
   "source": []
  }
 ],
 "metadata": {
  "kernelspec": {
   "display_name": "base",
   "language": "python",
   "name": "python3"
  },
  "language_info": {
   "codemirror_mode": {
    "name": "ipython",
    "version": 3
   },
   "file_extension": ".py",
   "mimetype": "text/x-python",
   "name": "python",
   "nbconvert_exporter": "python",
   "pygments_lexer": "ipython3",
   "version": "3.10.11"
  },
  "orig_nbformat": 4
 },
 "nbformat": 4,
 "nbformat_minor": 2
}
