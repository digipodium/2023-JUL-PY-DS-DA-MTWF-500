{
 "cells": [
  {
   "cell_type": "markdown",
   "metadata": {},
   "source": [
    "conditions\n",
    "- if \n",
    "- if else\n",
    "- if elif else\n",
    "- match case"
   ]
  },
  {
   "cell_type": "code",
   "execution_count": 1,
   "metadata": {},
   "outputs": [],
   "source": [
    "x = 10\n",
    "y = 3"
   ]
  },
  {
   "cell_type": "code",
   "execution_count": 5,
   "metadata": {},
   "outputs": [
    {
     "name": "stdout",
     "output_type": "stream",
     "text": [
      "x is greater than y\n",
      "that is true\n",
      "this is always printed\n"
     ]
    }
   ],
   "source": [
    "if x > y:\n",
    "    print(\"x is greater than y\")\n",
    "    print('that is true')\n",
    "print('this is always printed')"
   ]
  },
  {
   "cell_type": "code",
   "execution_count": 8,
   "metadata": {},
   "outputs": [],
   "source": [
    "if x == y:\n",
    "    print('wow')"
   ]
  },
  {
   "cell_type": "code",
   "execution_count": 9,
   "metadata": {},
   "outputs": [
    {
     "name": "stdout",
     "output_type": "stream",
     "text": [
      "x is greater than y and x is greater than 8\n"
     ]
    }
   ],
   "source": [
    "if x > y and x > 8:\n",
    "    print('x is greater than y and x is greater than 8')\n",
    "    "
   ]
  },
  {
   "cell_type": "markdown",
   "metadata": {},
   "source": [
    "True values\n",
    "- True\n",
    "- non-zero numbers\n",
    "- non-empty strings\n",
    "\n",
    "False values\n",
    "- False\n",
    "- 0\n",
    "- 0.0\n",
    "- None\n",
    "- empty strings"
   ]
  },
  {
   "cell_type": "code",
   "execution_count": 11,
   "metadata": {},
   "outputs": [
    {
     "name": "stdout",
     "output_type": "stream",
     "text": [
      "you entered Zaid\n"
     ]
    }
   ],
   "source": [
    "name = input('Enter a name')\n",
    "if name:\n",
    "    print(f'you entered {name}')\n",
    "else:\n",
    "    print('you did not enter a name')"
   ]
  },
  {
   "cell_type": "code",
   "execution_count": 14,
   "metadata": {},
   "outputs": [
    {
     "name": "stdout",
     "output_type": "stream",
     "text": [
      "odd\n"
     ]
    }
   ],
   "source": [
    "x = int(input('Enter a number'))\n",
    "if x % 2 == 0:\n",
    "    print('even')\n",
    "else:\n",
    "    print('odd')"
   ]
  },
  {
   "cell_type": "code",
   "execution_count": 15,
   "metadata": {},
   "outputs": [
    {
     "name": "stdout",
     "output_type": "stream",
     "text": [
      "Invalid username\n"
     ]
    }
   ],
   "source": [
    "username = input('Enter username')\n",
    "password = input('Enter password')\n",
    "if username == 'admin':\n",
    "    if password == '123admin':\n",
    "        print('Welcome admin')  \n",
    "    else:\n",
    "        print('Invalid password')\n",
    "else:\n",
    "    print('Invalid username')"
   ]
  },
  {
   "cell_type": "code",
   "execution_count": 16,
   "metadata": {},
   "outputs": [
    {
     "name": "stdout",
     "output_type": "stream",
     "text": [
      "Holiday day\n"
     ]
    }
   ],
   "source": [
    "day = input('Enter day')\n",
    "if day == 'monday':\n",
    "    print('monday')\n",
    "elif day == 'tuesday':\n",
    "    print('tuesday')\n",
    "elif day == 'wednesday':\n",
    "    print('wednesday')\n",
    "else:\n",
    "    print('Holiday day')"
   ]
  },
  {
   "cell_type": "code",
   "execution_count": 18,
   "metadata": {},
   "outputs": [
    {
     "name": "stdout",
     "output_type": "stream",
     "text": [
      "Holiday\n"
     ]
    }
   ],
   "source": [
    "day = input('Enter day')\n",
    "match day:\n",
    "    case 'monday':\n",
    "        print('Time to work')\n",
    "    case 'tuesday'|'wednesday':\n",
    "        print('Time to work again')\n",
    "    case 'thursday':\n",
    "        print('Almost there')\n",
    "    case 'friday':\n",
    "        print('Weekend, not really')\n",
    "    case _:\n",
    "        print('Holiday')   "
   ]
  },
  {
   "cell_type": "code",
   "execution_count": null,
   "metadata": {},
   "outputs": [],
   "source": []
  }
 ],
 "metadata": {
  "kernelspec": {
   "display_name": "base",
   "language": "python",
   "name": "python3"
  },
  "language_info": {
   "codemirror_mode": {
    "name": "ipython",
    "version": 3
   },
   "file_extension": ".py",
   "mimetype": "text/x-python",
   "name": "python",
   "nbconvert_exporter": "python",
   "pygments_lexer": "ipython3",
   "version": "3.10.11"
  },
  "orig_nbformat": 4
 },
 "nbformat": 4,
 "nbformat_minor": 2
}
