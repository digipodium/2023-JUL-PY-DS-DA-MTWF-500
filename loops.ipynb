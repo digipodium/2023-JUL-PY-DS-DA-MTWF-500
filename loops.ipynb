{
 "cells": [
  {
   "cell_type": "markdown",
   "metadata": {},
   "source": [
    "# for"
   ]
  },
  {
   "cell_type": "markdown",
   "metadata": {},
   "source": [
    "```\n",
    "for temp_var in iterable:\n",
    "    statement 1\n",
    "    ...\n",
    "    statement n\n",
    "```\n",
    "iterables are string, list, tuple, set, dict, generators, etc"
   ]
  },
  {
   "cell_type": "code",
   "execution_count": null,
   "metadata": {},
   "outputs": [],
   "source": [
    "nums = [1,23,5,6,3,6,21,6,6] # list of numbers\n",
    "for i in nums:\n",
    "    print(i ** 2)"
   ]
  },
  {
   "cell_type": "markdown",
   "metadata": {},
   "source": [
    "- enumerate\n",
    "- zip"
   ]
  },
  {
   "cell_type": "code",
   "execution_count": null,
   "metadata": {},
   "outputs": [],
   "source": [
    "names = ['John', 'Jane', 'Jack', 'Jill']\n",
    "for idx, name in enumerate(names):\n",
    "    print(name, idx)"
   ]
  },
  {
   "cell_type": "code",
   "execution_count": 19,
   "metadata": {},
   "outputs": [
    {
     "name": "stdout",
     "output_type": "stream",
     "text": [
      "5\n",
      "18\n",
      "39\n",
      "68\n",
      "105\n"
     ]
    }
   ],
   "source": [
    "x = [2, 4, 6, 8, 10]    \n",
    "y = [1, 3, 5, 7, 9]\n",
    "z = [3, 6, 9, 12, 15]\n",
    "\n",
    "for i, j, k in zip(x, y, z):\n",
    "    print(i * j + k)"
   ]
  },
  {
   "cell_type": "code",
   "execution_count": 27,
   "metadata": {},
   "outputs": [
    {
     "name": "stdout",
     "output_type": "stream",
     "text": [
      "Interstellar        8.6 ⭐\n",
      "The Martian         8.0 ⭐\n",
      "Gravity             7.7 ⭐\n",
      "Apollo 13           7.6 ⭐\n"
     ]
    }
   ],
   "source": [
    "movies = ['Interstellar', 'The Martian', 'Gravity', 'Apollo 13']\n",
    "rating = [8.6, 8.0, 7.7, 7.6]\n",
    "\n",
    "for name, star in zip(movies, rating):\n",
    "    print(f'{name:20}{star} ⭐')"
   ]
  },
  {
   "cell_type": "markdown",
   "metadata": {},
   "source": [
    "break and continue"
   ]
  },
  {
   "cell_type": "code",
   "execution_count": 3,
   "metadata": {},
   "outputs": [
    {
     "name": "stdout",
     "output_type": "stream",
     "text": [
      "1 2 2 3 "
     ]
    }
   ],
   "source": [
    "x = [1,2,2,3,0,2,2,1,2,2,3,0,4,5,1,2,4,5,]\n",
    "for i in x:\n",
    "    if i == 0: \n",
    "        break\n",
    "    print(i, end=' ')"
   ]
  },
  {
   "cell_type": "code",
   "execution_count": 7,
   "metadata": {},
   "outputs": [
    {
     "name": "stdout",
     "output_type": "stream",
     "text": [
      "3 2 2 1 2 5 6 7 3 1 2 2 Loop completed\n"
     ]
    }
   ],
   "source": [
    "x =[3,2,2,1,2,5,6,7,3,1,2,2]\n",
    "for i in x:\n",
    "    if i == 0:\n",
    "        break\n",
    "    print(i, end=' ')\n",
    "else:\n",
    "    print('Loop completed')"
   ]
  },
  {
   "cell_type": "code",
   "execution_count": 13,
   "metadata": {},
   "outputs": [
    {
     "name": "stdout",
     "output_type": "stream",
     "text": [
      "15 % 2 = 1\n",
      "15 % 3 = 0\n",
      "Not prime\n"
     ]
    }
   ],
   "source": [
    "num = int(input('Enter a number: '))\n",
    "for i in range(2, num):\n",
    "    print(f'{num} % {i} = {num % i}')\n",
    "    if num % i == 0:\n",
    "        print('Not prime')\n",
    "        break\n",
    "else:\n",
    "    print('Prime')"
   ]
  },
  {
   "cell_type": "code",
   "execution_count": 16,
   "metadata": {},
   "outputs": [
    {
     "name": "stdout",
     "output_type": "stream",
     "text": [
      "1 2 3 5 1 2 23 3 1 2 2 3 3 "
     ]
    }
   ],
   "source": [
    "x= [1,2,3,None,5,1,None,2,23,None,3,1,2,2,3,None,3]\n",
    "for num in x:\n",
    "    if num is None:\n",
    "        continue\n",
    "    print(num, end=' ')"
   ]
  },
  {
   "cell_type": "code",
   "execution_count": 17,
   "metadata": {},
   "outputs": [
    {
     "name": "stdout",
     "output_type": "stream",
     "text": [
      "1 2 3 5 1 2 23 3 1 2 2 3 3 "
     ]
    }
   ],
   "source": [
    "for num in x:\n",
    "    if num is not None:\n",
    "        print(num, end=' ')"
   ]
  },
  {
   "cell_type": "code",
   "execution_count": 19,
   "metadata": {},
   "outputs": [
    {
     "name": "stdout",
     "output_type": "stream",
     "text": [
      "43\n"
     ]
    }
   ],
   "source": [
    "odd_sum = 0\n",
    "for num in x:\n",
    "    if num is not None and num % 2 != 0:\n",
    "        odd_sum += num\n",
    "print(odd_sum)\n",
    "        "
   ]
  },
  {
   "cell_type": "markdown",
   "metadata": {},
   "source": [
    "infinite loop"
   ]
  },
  {
   "cell_type": "code",
   "execution_count": 22,
   "metadata": {},
   "outputs": [
    {
     "name": "stdout",
     "output_type": "stream",
     "text": [
      "❌ Wrong username\n",
      "❌ Wrong username\n",
      "❌ Wrong password\n",
      "👑 Welcome admin\n"
     ]
    }
   ],
   "source": [
    "while True:\n",
    "    user = input('😀 enter username: ')\n",
    "    password = input('🔑 enter password: ')\n",
    "    if user == 'admin':\n",
    "        if password == 'secret':\n",
    "            print('👑 Welcome admin')\n",
    "            break\n",
    "        else:\n",
    "            print('❌ Wrong password')\n",
    "    else:\n",
    "        print('❌ Wrong username')"
   ]
  },
  {
   "cell_type": "code",
   "execution_count": null,
   "metadata": {},
   "outputs": [],
   "source": []
  }
 ],
 "metadata": {
  "kernelspec": {
   "display_name": "base",
   "language": "python",
   "name": "python3"
  },
  "language_info": {
   "codemirror_mode": {
    "name": "ipython",
    "version": 3
   },
   "file_extension": ".py",
   "mimetype": "text/x-python",
   "name": "python",
   "nbconvert_exporter": "python",
   "pygments_lexer": "ipython3",
   "version": "3.10.11"
  },
  "orig_nbformat": 4
 },
 "nbformat": 4,
 "nbformat_minor": 2
}
