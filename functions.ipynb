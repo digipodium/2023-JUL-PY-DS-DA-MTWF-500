{
 "cells": [
  {
   "cell_type": "markdown",
   "metadata": {},
   "source": [
    "*syntax*\n",
    "```\n",
    "def fun_name([parameters]):\n",
    "    statement 1\n",
    "    statement 2\n",
    "    ...\n",
    "    statement n\n",
    "    [return value]\n",
    "```"
   ]
  },
  {
   "cell_type": "markdown",
   "metadata": {},
   "source": [
    "Type of user defined functions\n",
    "1. Non-parameterized non returning function\n",
    "2. value returing function\n",
    "3. parameterized function\n",
    "    - positional required arguments\n",
    "    - named arguments\n",
    "    - default arguments\n",
    "    - variable length arguments\n",
    "    - keyword arguments\n",
    "4. parameterized and value returning function\n",
    "5. Lambda functions"
   ]
  },
  {
   "cell_type": "code",
   "execution_count": null,
   "metadata": {},
   "outputs": [],
   "source": [
    "from random import random"
   ]
  },
  {
   "cell_type": "code",
   "execution_count": null,
   "metadata": {},
   "outputs": [],
   "source": [
    "random()"
   ]
  },
  {
   "cell_type": "code",
   "execution_count": null,
   "metadata": {},
   "outputs": [],
   "source": [
    "def inspireMe():\n",
    "    from random import choice\n",
    "    q = [\n",
    "        'The best way to predict the future is to invent it.',\n",
    "        'The most important step is always the next step',\n",
    "        'Hardwork beats talent',\n",
    "        'Early to bed'\n",
    "    ]\n",
    "    return choice(q)"
   ]
  },
  {
   "cell_type": "code",
   "execution_count": null,
   "metadata": {},
   "outputs": [],
   "source": [
    "inspireMe()"
   ]
  },
  {
   "cell_type": "code",
   "execution_count": null,
   "metadata": {},
   "outputs": [],
   "source": [
    "def dicey():\n",
    "    from random import randint\n",
    "    return randint(1,6)\n",
    "\n",
    "print(dicey())\n",
    "print(dicey())\n",
    "print(dicey())"
   ]
  },
  {
   "cell_type": "code",
   "execution_count": null,
   "metadata": {},
   "outputs": [],
   "source": [
    "roll = dicey()\n",
    "print(roll)"
   ]
  },
  {
   "cell_type": "code",
   "execution_count": 11,
   "metadata": {},
   "outputs": [
    {
     "data": {
      "text/plain": [
       "12"
      ]
     },
     "execution_count": 11,
     "metadata": {},
     "output_type": "execute_result"
    }
   ],
   "source": [
    "dicey() + dicey() * 5"
   ]
  },
  {
   "cell_type": "code",
   "execution_count": 16,
   "metadata": {},
   "outputs": [],
   "source": [
    "def is_prime(num):\n",
    "    for i in range(2, num):\n",
    "        if num % i == 0:\n",
    "            return False\n",
    "    return True"
   ]
  },
  {
   "cell_type": "code",
   "execution_count": 21,
   "metadata": {},
   "outputs": [
    {
     "data": {
      "text/plain": [
       "True"
      ]
     },
     "execution_count": 21,
     "metadata": {},
     "output_type": "execute_result"
    }
   ],
   "source": [
    "is_prime(13)"
   ]
  },
  {
   "cell_type": "code",
   "execution_count": 22,
   "metadata": {},
   "outputs": [],
   "source": [
    "def si(p, r, t):\n",
    "    ans = p * r * t / 100\n",
    "    print(\"Principle: \", p)\n",
    "    print(\"Rate: \", r)\n",
    "    print(\"Time: \", t)\n",
    "    print(\"Simple Interest: \", ans)"
   ]
  },
  {
   "cell_type": "code",
   "execution_count": 23,
   "metadata": {},
   "outputs": [
    {
     "name": "stdout",
     "output_type": "stream",
     "text": [
      "Principle:  12000\n",
      "Rate:  5\n",
      "Time:  10\n",
      "Simple Interest:  6000.0\n"
     ]
    }
   ],
   "source": [
    "si(12000, 5, 10)"
   ]
  },
  {
   "cell_type": "markdown",
   "metadata": {},
   "source": [
    "*waf to remove all the puctuations from the string provided by the user*\n",
    "\n",
    "hints\n",
    "\n",
    "`from string import punctuation`"
   ]
  },
  {
   "cell_type": "code",
   "execution_count": 27,
   "metadata": {},
   "outputs": [
    {
     "data": {
      "text/plain": [
       "'hi how are u'"
      ]
     },
     "execution_count": 27,
     "metadata": {},
     "output_type": "execute_result"
    }
   ],
   "source": [
    "from string import punctuation\n",
    "def clean_punc(data):\n",
    "    for p in punctuation:\n",
    "        data = data.replace(p, '')\n",
    "    return data\n",
    "\n",
    "data = '#@h*(*(i^&^&* ho*!@(:w\" {!@#ar{}!@e !@#u'\n",
    "clean_punc(data)"
   ]
  },
  {
   "cell_type": "code",
   "execution_count": null,
   "metadata": {},
   "outputs": [],
   "source": []
  }
 ],
 "metadata": {
  "kernelspec": {
   "display_name": "base",
   "language": "python",
   "name": "python3"
  },
  "language_info": {
   "codemirror_mode": {
    "name": "ipython",
    "version": 3
   },
   "file_extension": ".py",
   "mimetype": "text/x-python",
   "name": "python",
   "nbconvert_exporter": "python",
   "pygments_lexer": "ipython3",
   "version": "3.10.11"
  },
  "orig_nbformat": 4
 },
 "nbformat": 4,
 "nbformat_minor": 2
}
