{
 "cells": [
  {
   "cell_type": "code",
   "execution_count": 8,
   "metadata": {},
   "outputs": [],
   "source": [
    "class Student:\n",
    "    def __init__(self, name, klass, rollno, stream=\"bio\"):\n",
    "        self.name = name \n",
    "        self.klass = klass\n",
    "        self.rollno = rollno\n",
    "        self.stream = stream\n",
    "        self.marks = {} # property of the class\n",
    "\n",
    "    def think(self, object):\n",
    "        print(f\"{self.name} is thinking about {object}\")\n",
    "    \n",
    "    def setMarks(self, subject, value):\n",
    "        self.marks[subject] = value\n"
   ]
  },
  {
   "cell_type": "code",
   "execution_count": 13,
   "metadata": {},
   "outputs": [],
   "source": [
    "aditi = Student(\"Aditi\", 12, '22', \"Math\")\n",
    "anmol = Student(\"Anmol\", 11, '23')\n",
    "\n",
    "anmol.setMarks('Hindi', 90)\n",
    "anmol.setMarks('English', 95)\n",
    "anmol.setMarks('Math', 55)\n",
    "aditi.setMarks('Hindi', 90)\n",
    "aditi.setMarks('English', 85)\n",
    "aditi.setMarks('Math', 75)\n",
    "aditi.setMarks('Science', 95)"
   ]
  },
  {
   "cell_type": "code",
   "execution_count": 14,
   "metadata": {},
   "outputs": [
    {
     "name": "stdout",
     "output_type": "stream",
     "text": [
      "{'Hindi': 90, 'English': 85, 'Math': 75, 'Science': 95}\n",
      "{'Hindi': 90, 'English': 95, 'Math': 55}\n"
     ]
    }
   ],
   "source": [
    "print(aditi.marks)\n",
    "print(anmol.marks)"
   ]
  },
  {
   "cell_type": "code",
   "execution_count": 15,
   "metadata": {},
   "outputs": [
    {
     "name": "stdout",
     "output_type": "stream",
     "text": [
      "Aditi is thinking about kisi k bare me nhi\n"
     ]
    }
   ],
   "source": [
    "aditi.think(\"kisi k bare me nhi\")"
   ]
  },
  {
   "cell_type": "markdown",
   "metadata": {},
   "source": [
    "# inheritance"
   ]
  },
  {
   "cell_type": "code",
   "execution_count": 32,
   "metadata": {},
   "outputs": [],
   "source": [
    "class SuperList(list):\n",
    "    def all_index(self, search):\n",
    "        idxs = []\n",
    "        start_idx = 0\n",
    "        for i in range(self.count(search)):\n",
    "            pos = self.index(search, start_idx)\n",
    "            idxs.append(pos)\n",
    "            start_idx = pos + 1\n",
    "        return idxs"
   ]
  },
  {
   "cell_type": "code",
   "execution_count": 33,
   "metadata": {},
   "outputs": [
    {
     "name": "stdout",
     "output_type": "stream",
     "text": [
      "[1, 2, 3, 4, 5, 6, 2, 5, 4, 5, 5]\n",
      "[1, 2, 3, 4, 5, 6, 2, 5, 4, 5, 5, 20]\n"
     ]
    }
   ],
   "source": [
    "x = SuperList([1, 2, 3, 4, 5,6,2,5,4,5,5])\n",
    "print(x)\n",
    "x.append(20)\n",
    "print(x)"
   ]
  },
  {
   "cell_type": "code",
   "execution_count": 35,
   "metadata": {},
   "outputs": [
    {
     "data": {
      "text/plain": [
       "[1, 6]"
      ]
     },
     "execution_count": 35,
     "metadata": {},
     "output_type": "execute_result"
    }
   ],
   "source": [
    "x.all_index(2)"
   ]
  },
  {
   "cell_type": "code",
   "execution_count": null,
   "metadata": {},
   "outputs": [],
   "source": []
  }
 ],
 "metadata": {
  "kernelspec": {
   "display_name": "base",
   "language": "python",
   "name": "python3"
  },
  "language_info": {
   "codemirror_mode": {
    "name": "ipython",
    "version": 3
   },
   "file_extension": ".py",
   "mimetype": "text/x-python",
   "name": "python",
   "nbconvert_exporter": "python",
   "pygments_lexer": "ipython3",
   "version": "3.10.11"
  },
  "orig_nbformat": 4
 },
 "nbformat": 4,
 "nbformat_minor": 2
}
